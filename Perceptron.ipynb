{
 "cells": [
  {
   "cell_type": "code",
   "execution_count": 2,
   "id": "14a409c9",
   "metadata": {},
   "outputs": [],
   "source": [
    "import numpy as np\n",
    "import json\n",
    "import matplotlib.pyplot as plt\n",
    "from numpy import linalg as LA\n",
    "from numpy import random as rand"
   ]
  },
  {
   "cell_type": "markdown",
   "id": "9f235c2a",
   "metadata": {},
   "source": [
    "### Import Training Data"
   ]
  },
  {
   "cell_type": "code",
   "execution_count": 9,
   "id": "22bea560",
   "metadata": {},
   "outputs": [],
   "source": [
    "file_name1='D:/ASD/rocks/train_01.json'\n",
    "file_name2='D:/ASD/rocks/train_02.json'\n",
    "\n",
    "with open(file_name1, 'r') as jsonfile1:\n",
    "    file1 = json.load(jsonfile1)\n",
    "\n",
    "with open(file_name2, 'r') as jsonfile2:\n",
    "    file2 = json.load(jsonfile2)\n",
    "    \n",
    "inside = np.array(file1['inside']) # class -1\n",
    "outside = np.array(file1['outside']) # class 1"
   ]
  },
  {
   "cell_type": "markdown",
   "id": "2f4c762e",
   "metadata": {},
   "source": [
    "### Plot Training Data"
   ]
  },
  {
   "cell_type": "code",
   "execution_count": 4,
   "id": "2e60f1fd",
   "metadata": {},
   "outputs": [
    {
     "data": {
      "image/png": "[encoded data removed]",
      "text/plain": [
       "<Figure size 432x288 with 1 Axes>"
      ]
     },
     "metadata": {
      "needs_background": "light"
     },
     "output_type": "display_data"
    }
   ],
   "source": [
    "def plot_(ins,outs):\n",
    "    R = []\n",
    "    B = []\n",
    "    for i in ins:\n",
    "        R.append(i)\n",
    "    for o in outs:\n",
    "        B.append(o)\n",
    "    R = np.array(R)\n",
    "    B = np.array(B)\n",
    "    plt.scatter(R.T[0],R.T[1], c='red')\n",
    "    plt.scatter(B.T[0],B.T[1], c='blue')\n",
    "    plt.show()\n",
    "\n",
    "plot_(inside,outside)"
   ]
  },
  {
   "cell_type": "code",
   "execution_count": 5,
   "id": "36b3f35d",
   "metadata": {},
   "outputs": [],
   "source": [
    "# формуємо вектор змінних\n",
    "def x_vector(x1, x2):\n",
    "    v = np.array([1, x1, x2, x1*x1, x1*x2, x2*x1, x2*x2])\n",
    "    return v\n",
    "\n",
    "# утворюємо вектор з вектору змінних і класу, якому він належить\n",
    "def Tfunc(x, k):\n",
    "    x1 = x[0]\n",
    "    x2 = x[1]\n",
    "    v = x_vector(x1, x2)\n",
    "    T = [v, k]\n",
    "    return T\n",
    "\n",
    "# даємо векторам з нашої навчальної вибірки клас \"-1\" або \"1\"\n",
    "def class_init(ins, outs):\n",
    "    T = [] \n",
    "    for i in ins:\n",
    "        T.append(Tfunc(i, -1))\n",
    "    for o in outs:\n",
    "        T.append(Tfunc(o, 1))\n",
    "    return T\n",
    "    \n",
    "# запускаємо ініціалізацію даних класами\n",
    "T = class_init(inside, outside)"
   ]
  },
  {
   "cell_type": "code",
   "execution_count": 6,
   "id": "e64b2ecf",
   "metadata": {},
   "outputs": [],
   "source": [
    "# функція для формування вектора з власних векторів\n",
    "def eig_vector(C):\n",
    "    s11,s12,s21,s22 = C[3:7] # з вектора констант видобуваємо значення елементів коваріаційної матриці\n",
    "    cov = np.array([[s11, s12], # формуємо коваріаційну матрицю\n",
    "                   [s21, s22]])\n",
    "    w, v = LA.eig(cov) # запускаємо вбудовану функцію для знаходження власних чисел і власних векторів\n",
    "    v1 = v[:][0] # перший власний вектор\n",
    "    v2 = v[:][1] # другий власний вектор\n",
    "    T1 = []\n",
    "    if (w[0] <= 0):\n",
    "        T1.append([np.array([0,0,0,v1[0]*v1[0],v1[0]*v1[1],v1[1]*v1[0],v1[1]*v1[1]]),1]) # формуємо вектор з першого власного вектора\n",
    "    if (w[1] <= 0):\n",
    "        T1.append([np.array([0,0,0,v2[0]*v2[0],v2[0]*v2[1],v2[1]*v2[0],v2[1]*v2[1]]),1]) # і другого\n",
    "    return T1"
   ]
  },
  {
   "cell_type": "markdown",
   "id": "32aa7f66",
   "metadata": {},
   "source": [
    "### Perceptron"
   ]
  },
  {
   "cell_type": "code",
   "execution_count": 7,
   "id": "9754f0c6",
   "metadata": {},
   "outputs": [],
   "source": [
    "def customPerceptron(C, T):\n",
    "    T.extend(eig_vector(C)) # додаємо додаткові дані\n",
    "    for t in T:\n",
    "        ckx = np.dot(t[0], C)*t[1] # ckx\n",
    "        if ckx<=0:\n",
    "            C1 = t[0]*t[1]+C\n",
    "            C = customPerceptron(C1, T) # рекурсивно переходимо на наступні ітерації\n",
    "            break\n",
    "    return C"
   ]
  },
  {
   "cell_type": "code",
   "execution_count": 8,
   "id": "5b8b43eb",
   "metadata": {},
   "outputs": [
    {
     "name": "stdout",
     "output_type": "stream",
     "text": [
      "[-1.         -0.56091189  0.43064313  9.72579488 -7.17206107 -7.17206107\n",
      "  6.06496566]\n"
     ]
    }
   ],
   "source": [
    "C0 = np.zeros(7) # початкове наближення - нульова матриця\n",
    "R = customPerceptron(C0, T) # запускаємо персепторн для 1го набору даних\n",
    "print(R)"
   ]
  },
  {
   "cell_type": "markdown",
   "id": "475c8ab2",
   "metadata": {},
   "source": [
    "### Perceptron Visualization"
   ]
  },
  {
   "cell_type": "code",
   "execution_count": 11,
   "id": "aa323d01",
   "metadata": {},
   "outputs": [],
   "source": [
    "def f(x1,x2,C):\n",
    "    return np.dot(C,x_vector(x1,x2))  # рівняння роздільної площини\n",
    "\n",
    "def plot_p(ins,outs,C,lim):\n",
    "    R = []\n",
    "    B = []\n",
    "    for i in ins:\n",
    "        R.append(i)\n",
    "    for o in outs:\n",
    "        B.append(o)\n",
    "    R = np.array(R)\n",
    "    B = np.array(B)\n",
    "    plt.scatter(R.T[0],R.T[1], c='red')\n",
    "    plt.scatter(B.T[0],B.T[1], c='blue')\n",
    "    t = np.arange(lim[0],lim[1],0.01)\n",
    "    U,V = np.meshgrid(t,t)\n",
    "    Fs = np.array(f(np.ravel(U),np.ravel(V),C))\n",
    "    F = Fs.reshape(U.shape)\n",
    "    plt.contour(U,V,F,levels=[0],colors=['green'])\n",
    "    plt.show()"
   ]
  },
  {
   "cell_type": "code",
   "execution_count": 13,
   "id": "2b802579",
   "metadata": {},
   "outputs": [
    {
     "name": "stderr",
     "output_type": "stream",
     "text": [
      "C:\\Users\\E786~1\\AppData\\Local\\Temp/ipykernel_3956/1394262593.py:3: VisibleDeprecationWarning: Creating an ndarray from ragged nested sequences (which is a list-or-tuple of lists-or-tuples-or ndarrays with different lengths or shapes) is deprecated. If you meant to do this, you must specify 'dtype=object' when creating the ndarray.\n",
      "  v = np.array([1, x1, x2, x1*x1, x1*x2, x2*x1, x2*x2])\n"
     ]
    },
    {
     "data": {
      "image/png": "[encoded data removed]",
      "text/plain": [
       "<Figure size 432x288 with 1 Axes>"
      ]
     },
     "metadata": {
      "needs_background": "light"
     },
     "output_type": "display_data"
    }
   ],
   "source": [
    "lim = np.array([0,1])    \n",
    "plot_p(inside,outside,R,lim)"
   ]
  },
  {
   "cell_type": "code",
   "execution_count": null,
   "id": "e5a3b492",
   "metadata": {},
   "outputs": [],
   "source": []
  }
 ],
 "metadata": {
  "kernelspec": {
   "display_name": "Python 3 (ipykernel)",
   "language": "python",
   "name": "python3"
  },
  "language_info": {
   "codemirror_mode": {
    "name": "ipython",
    "version": 3
   },
   "file_extension": ".py",
   "mimetype": "text/x-python",
   "name": "python",
   "nbconvert_exporter": "python",
   "pygments_lexer": "ipython3",
   "version": "3.9.7"
  }
 },
 "nbformat": 4,
 "nbformat_minor": 5
}
