{
 "cells": [
  {
   "cell_type": "code",
   "execution_count": 4,
   "metadata": {},
   "outputs": [],
   "source": [
    "import numpy as np\n",
    "import json\n",
    "import matplotlib.pyplot as plt\n",
    "from numpy import linalg as LA\n",
    "from numpy import random as rand"
   ]
  },
  {
   "cell_type": "markdown",
   "metadata": {},
   "source": [
    "### Import Training Data"
   ]
  },
  {
   "cell_type": "code",
   "execution_count": 3,
   "metadata": {},
   "outputs": [],
   "source": [
    "file_name1='D:/ASD/rocks/train_01.json'\n",
    "file_name2='D:/ASD/rocks/train_02.json'\n",
    "\n",
    "C0 = np.zeros(7)\n",
    "\n",
    "with open(file_name1, 'r') as jsonfile1:\n",
    "    file1 = json.load(jsonfile1)\n",
    "\n",
    "with open(file_name2, 'r') as jsonfile2:\n",
    "    file2 = json.load(jsonfile2)\n",
    "    \n",
    "inside = np.array(file1['inside']) # class -1\n",
    "outside = np.array(file1['outside']) # class 1"
   ]
  },
  {
   "cell_type": "markdown",
   "metadata": {},
   "source": [
    "### Plot Training Data"
   ]
  },
  {
   "cell_type": "code",
   "execution_count": 7,
   "metadata": {},
   "outputs": [
    {
     "data": {
      "image/png": "[encoded data removed]",
      "text/plain": [
       "<Figure size 432x288 with 1 Axes>"
      ]
     },
     "metadata": {
      "needs_background": "light"
     },
     "output_type": "display_data"
    }
   ],
   "source": [
    "def plot_(ins,outs):\n",
    "    R = []\n",
    "    B = []\n",
    "    for i in ins:\n",
    "        R.append(i)\n",
    "    for o in outs:\n",
    "        B.append(o)\n",
    "    R = np.array(R)\n",
    "    B = np.array(B)\n",
    "    plt.scatter(R.T[0],R.T[1], c='red')\n",
    "    plt.scatter(B.T[0],B.T[1], c='blue')\n",
    "    plt.show()\n",
    "\n",
    "plot_(inside,outside)"
   ]
  },
  {
   "cell_type": "code",
   "execution_count": null,
   "metadata": {},
   "outputs": [],
   "source": [
    "# формуємо вектор змінних\n",
    "def x_vector(x1, x2):\n",
    "    v = np.array([1, x1, x2, x1*x1, x1*x2, x2*x1, x2*x2])\n",
    "    return v\n",
    "\n",
    "# утворюємо вектор з вектору змінних і класу, якому він належить\n",
    "def Tfunc(x, k):\n",
    "    x1 = x[0]\n",
    "    x2 = x[1]\n",
    "    v = x_vector(x1, x2)\n",
    "    T = [v, k]\n",
    "    return T\n",
    "\n",
    "# даємо векторам з нашої навчальної вибірки клас \"-1\" або \"1\"\n",
    "def class_init(ins, outs):\n",
    "    T = [] \n",
    "    for i in ins:\n",
    "        T.append(Tfunc(i, -1))\n",
    "    for o in outs:\n",
    "        T.append(Tfunc(o, 1))\n",
    "    return T\n",
    "    \n",
    "# запускаємо ініціалізацію даних класами\n",
    "T = class_init(inside, outside)"
   ]
  }
 ],
 "metadata": {
  "kernelspec": {
   "display_name": "Python 3",
   "language": "python",
   "name": "python3"
  },
  "language_info": {
   "codemirror_mode": {
    "name": "ipython",
    "version": 3
   },
   "file_extension": ".py",
   "mimetype": "text/x-python",
   "name": "python",
   "nbconvert_exporter": "python",
   "pygments_lexer": "ipython3",
   "version": "3.8.4"
  }
 },
 "nbformat": 4,
 "nbformat_minor": 5
}
