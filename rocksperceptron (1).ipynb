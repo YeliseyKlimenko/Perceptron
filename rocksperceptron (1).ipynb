{
 "cells": [
  {
   "cell_type": "code",
   "execution_count": 71,
   "metadata": {},
   "outputs": [],
   "source": [
    "import numpy as np\n",
    "import json\n",
    "import matplotlib.pyplot as plt\n",
    "from numpy import linalg as LA\n",
    "from numpy import random as rand"
   ]
  },
  {
   "cell_type": "code",
   "execution_count": 76,
   "metadata": {},
   "outputs": [
    {
     "data": {
      "image/png": "[encoded data removed]",
      "text/plain": [
       "<Figure size 432x288 with 1 Axes>"
      ]
     },
     "metadata": {
      "needs_background": "light"
     },
     "output_type": "display_data"
    }
   ],
   "source": [
    "C0 = np.zeros(7)\n",
    "\n",
    "file_name='D:/ASD/rocks/train_02.json'\n",
    "\n",
    "with open(file_name, 'r') as jsonfile:\n",
    "    file = json.load(jsonfile)\n",
    "    \n",
    "inside = np.array(file['inside']) # class -1\n",
    "outside = np.array(file['outside']) # class 1\n",
    "\n",
    "\n",
    "def plot_(ins,outs):\n",
    "    R = []\n",
    "    B = []\n",
    "    for i in ins:\n",
    "        R.append(i)\n",
    "    for o in outs:\n",
    "        B.append(o)\n",
    "    R = np.array(R)\n",
    "    B = np.array(B)\n",
    "    plt.scatter(R.T[0],R.T[1], c='red')\n",
    "    plt.scatter(B.T[0],B.T[1], c='blue')\n",
    "    plt.show()\n",
    "\n",
    "\n",
    "def x_vector(x1, x2):\n",
    "    v = np.array([1, x1, x2, x1*x1, x1*x2, x2*x1, x2*x2])\n",
    "    return v\n",
    "\n",
    "def Tfunc(x, k):\n",
    "    x1 = x[0]\n",
    "    x2 = x[1]\n",
    "    v = x_vector(x1, x2)\n",
    "    T = [v, k]\n",
    "    return T\n",
    "\n",
    "def class_init(ins, outs):\n",
    "    T = [] \n",
    "    for i in ins:\n",
    "        T.append(Tfunc(i, -1))\n",
    "    for o in outs:\n",
    "        T.append(Tfunc(o, 1))\n",
    "    return T\n",
    "    \n",
    "T = class_init(inside, outside)\n",
    "plot_(inside,outside)"
   ]
  },
  {
   "cell_type": "code",
   "execution_count": 77,
   "metadata": {},
   "outputs": [],
   "source": [
    "def eig_vector(C):\n",
    "    s11,s12,s21,s22 = C[3:7]\n",
    "    cov = np.array([[s11, s12],\n",
    "                   [s21, s22]])\n",
    "    w, v = LA.eig(cov)\n",
    "    v1 = v[:][0]\n",
    "    v2 = v[:][1]\n",
    "    T1 = []\n",
    "    if (w[0] <= 0):\n",
    "        T1.append([np.array([0,0,0,v1[0]*v1[0],v1[0]*v1[1],v1[1]*v1[0],v1[1]*v1[1]]),1])\n",
    "    if (w[1] <= 0):\n",
    "        T1.append([np.array([0,0,0,v2[0]*v2[0],v2[0]*v2[1],v2[1]*v2[0],v2[1]*v2[1]]),1])\n",
    "    return T1\n",
    "\n",
    "def customPerceptron(C, T):\n",
    "    T.extend(eig_vector(C))\n",
    "    for t in T:\n",
    "        ckx = np.dot(t[0], C)*t[1] # ckx\n",
    "        if ckx<=0:\n",
    "            C1 = t[0]*t[1]+C\n",
    "            C = customPerceptron(C1, T)\n",
    "            break\n",
    "    return C"
   ]
  },
  {
   "cell_type": "code",
   "execution_count": 78,
   "metadata": {},
   "outputs": [
    {
     "name": "stdout",
     "output_type": "stream",
     "text": [
      "[-1.         -0.62549901 -0.48898386  2.57720745 -0.52184595 -0.52184595\n",
      "  1.50228859]\n",
      "3.5993861407721695\n"
     ]
    },
    {
     "data": {
      "text/plain": [
       "array([2.78887139, 1.29062464])"
      ]
     },
     "execution_count": 78,
     "metadata": {},
     "output_type": "execute_result"
    }
   ],
   "source": [
    "R = customPerceptron(C0, T)\n",
    "print(R)\n",
    "\n",
    "def eig_vectorr(C):\n",
    "    s11 = C[3]  \n",
    "    s12 = C[4]\n",
    "    s21 = C[5]\n",
    "    s22 = C[6]\n",
    "    cov = np.array([[s11, s12],\n",
    "                   [s21, s22]])\n",
    "    w = LA.det(cov)\n",
    "    print(w)\n",
    "    w, v = LA.eig(cov)\n",
    "    return w\n",
    "\n",
    "eig_vectorr(R)"
   ]
  },
  {
   "cell_type": "code",
   "execution_count": 79,
   "metadata": {},
   "outputs": [
    {
     "name": "stderr",
     "output_type": "stream",
     "text": [
      "C:\\Users\\E786~1\\AppData\\Local\\Temp/ipykernel_9552/2041780839.py:27: VisibleDeprecationWarning: Creating an ndarray from ragged nested sequences (which is a list-or-tuple of lists-or-tuples-or ndarrays with different lengths or shapes) is deprecated. If you meant to do this, you must specify 'dtype=object' when creating the ndarray.\n",
      "  v = np.array([1, x1, x2, x1*x1, x1*x2, x2*x1, x2*x2])\n"
     ]
    },
    {
     "data": {
      "image/png": "[encoded data removed]",
      "text/plain": [
       "<Figure size 432x288 with 1 Axes>"
      ]
     },
     "metadata": {
      "needs_background": "light"
     },
     "output_type": "display_data"
    }
   ],
   "source": [
    "def f(x1,x2,C):\n",
    "    return np.dot(C,x_vector(x1,x2))\n",
    "\n",
    "\n",
    "def plot_p(ins,outs,C,lim):\n",
    "    R = []\n",
    "    B = []\n",
    "    for i in ins:\n",
    "        R.append(i)\n",
    "    for o in outs:\n",
    "        B.append(o)\n",
    "    R = np.array(R)\n",
    "    B = np.array(B)\n",
    "    plt.scatter(R.T[0],R.T[1], c='red')\n",
    "    plt.scatter(B.T[0],B.T[1], c='blue')\n",
    "    t = np.arange(lim[0],lim[1],0.01)\n",
    "    U,V = np.meshgrid(t,t)\n",
    "    Fs = np.array(f(np.ravel(U),np.ravel(V),C))\n",
    "    F = Fs.reshape(U.shape)\n",
    "    plt.contour(U,V,F,levels=[0],colors=['green'])\n",
    "    plt.show()\n",
    "    \n",
    "\n",
    "lim = np.array([-1,1])    \n",
    "plot_p(inside,outside,R,lim)"
   ]
  },
  {
   "cell_type": "code",
   "execution_count": 81,
   "metadata": {},
   "outputs": [
    {
     "name": "stdout",
     "output_type": "stream",
     "text": [
      "[[array([1.        , 0.18865441, 0.1008201 , 0.03559049, 0.01902016,\n",
      "       0.01902016, 0.01016469]), -1], [array([ 1.        , -0.26753099,  0.12150315,  0.07157283, -0.03250586,\n",
      "       -0.03250586,  0.01476302]), -1], [array([1.00000000e+00, 4.35511077e-01, 1.43425573e-02, 1.89669898e-01,\n",
      "       6.24634259e-03, 6.24634259e-03, 2.05708951e-04]), -1], [array([ 1.        ,  0.50323702, -0.19433397,  0.2532475 , -0.09779605,\n",
      "       -0.09779605,  0.03776569]), -1], [array([1.        , 0.44867711, 0.27392777, 0.20131115, 0.12290512,\n",
      "       0.12290512, 0.07503642]), -1], [array([1.        , 0.6662461 , 0.10164597, 0.44388386, 0.06772123,\n",
      "       0.06772123, 0.0103319 ]), -1], [array([ 1.        , -0.09719628, -0.06604512,  0.00944712,  0.00641934,\n",
      "        0.00641934,  0.00436196]), -1], [array([1.00000000e+00, 1.88974951e-01, 1.10921844e-02, 3.57115320e-02,\n",
      "       2.09614499e-03, 2.09614499e-03, 1.23036554e-04]), -1], [array([1.        , 0.30327483, 0.16361569, 0.09197562, 0.04962052,\n",
      "       0.04962052, 0.02677009]), -1], [array([1.        , 0.49081535, 0.18731495, 0.24089971, 0.09193705,\n",
      "       0.09193705, 0.03508689]), -1], [array([ 1.        ,  0.24939129, -0.28685728,  0.06219602, -0.07153971,\n",
      "       -0.07153971,  0.0822871 ]), -1], [array([ 1.        ,  0.43996029, -0.09672296,  0.19356506, -0.04255426,\n",
      "       -0.04255426,  0.00935533]), -1], [array([1.        , 0.1802262 , 0.07432714, 0.03248148, 0.0133957 ,\n",
      "       0.0133957 , 0.00552452]), -1], [array([ 1.        ,  0.19199261, -0.07898121,  0.03686116, -0.01516381,\n",
      "       -0.01516381,  0.00623803]), -1], [array([ 1.        ,  0.55411401, -0.09952264,  0.30704233, -0.05514689,\n",
      "       -0.05514689,  0.00990476]), -1], [array([1.        , 0.08592677, 0.23502283, 0.00738341, 0.02019475,\n",
      "       0.02019475, 0.05523573]), -1], [array([1.        , 0.46696545, 0.27576156, 0.21805673, 0.12877112,\n",
      "       0.12877112, 0.07604444]), -1], [array([ 1.        ,  0.317741  , -0.4952939 ,  0.10095934, -0.15737518,\n",
      "       -0.15737518,  0.24531605]), -1], [array([1.        , 0.26185624, 0.11663608, 0.06856869, 0.03054189,\n",
      "       0.03054189, 0.01360398]), -1], [array([ 1.        ,  0.49407353, -0.40340906,  0.24410865, -0.19931374,\n",
      "       -0.19931374,  0.16273887]), -1]]\n"
     ]
    }
   ],
   "source": [
    "X1 = rand.normal(0.25,0.2,20)\n",
    "X2 = rand.normal(0,0.25,20)\n",
    "X = []\n",
    "Tx = []\n",
    "for i in np.arange(len(X1)):\n",
    "    X.append([X1[i],X2[i]])\n",
    "    Tx.append([x_vector(X1[i],X2[i]),-1])\n",
    "print(X)\n",
    "\n",
    "\n"
   ]
  },
  {
   "cell_type": "code",
   "execution_count": null,
   "metadata": {},
   "outputs": [],
   "source": []
  }
 ],
 "metadata": {
  "kernelspec": {
   "display_name": "Python 3 (ipykernel)",
   "language": "python",
   "name": "python3"
  },
  "language_info": {
   "codemirror_mode": {
    "name": "ipython",
    "version": 3
   },
   "file_extension": ".py",
   "mimetype": "text/x-python",
   "name": "python",
   "nbconvert_exporter": "python",
   "pygments_lexer": "ipython3",
   "version": "3.9.7"
  }
 },
 "nbformat": 4,
 "nbformat_minor": 4
}
